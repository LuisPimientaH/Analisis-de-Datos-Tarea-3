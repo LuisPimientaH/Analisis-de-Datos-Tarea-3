{
 "cells": [
  {
   "cell_type": "markdown",
   "id": "94cda92d-19d8-4580-adea-7d99a62e1a94",
   "metadata": {},
   "source": [
    "**TAREA 3 - ANÁLISIS EXPLORATORIO DE DATOS (EDA)**\n",
    "\n",
    "**Realizado por:**\n",
    "\n",
    "**LUIS CARLOS PIMIENTA HENAO**\n",
    "\n",
    "**Grupo: 202016908_1**\n",
    "\n",
    "**UNIVERSIDAD NACIONAL ABIERTA Y A DISTANCIA - UNAD**\n",
    "\n",
    "**PROGRAMA DE INGENIERIA DE SISTEMAS**\n",
    "\n",
    "**ANALISIS DE DATOS**\n",
    "\n",
    "**BARRANQUILLA (ATLÁNTICO)**\n",
    "\n",
    "**ABRIL 2024**ABRIL 2024."
   ]
  },
  {
   "cell_type": "markdown",
   "id": "3eb677f0-07fe-4fd3-a900-7b1d28456045",
   "metadata": {},
   "source": [
    "**REGRESIÓN LINEAL**"
   ]
  },
  {
   "cell_type": "markdown",
   "id": "5d9049cd-2484-4dc5-a808-55fd22a6712d",
   "metadata": {},
   "source": [
    "**1. Realizar un análisis exploratorio de los datos para identificar relaciones entre variables, valores atípicos, tendencias, etc.**"
   ]
  },
  {
   "cell_type": "code",
   "execution_count": 73,
   "id": "6f2ee21e-ee56-4dd7-a3f4-897441b37ada",
   "metadata": {},
   "outputs": [],
   "source": [
    "#Cargar Librerias.\n",
    "\n",
    "import pandas as pd\n",
    "import sklearn.metrics\n",
    "import numpy as np\n",
    "import seaborn as sns\n",
    "import matplotlib.pyplot as plt\n",
    "\n",
    "#Cargar libreria implementar modelos ciencia de datos.\n",
    "from sklearn import metrics\n",
    "from sklearn.model_selection import train_test_split\n",
    "from sklearn.impute import SimpleImputer\n",
    "from sklearn.metrics import  mean_squared_error, mean_absolute_error, r2_score,accuracy_score\n",
    "from sklearn.linear_model import LinearRegression # (Libreria Regresión Lineal)\n",
    "from sklearn.metrics import classification_report, confusion_matrix\n"
   ]
  },
  {
   "cell_type": "code",
   "execution_count": 74,
   "id": "a0ec6b02-07fa-406d-a4c8-026fbb270f7d",
   "metadata": {},
   "outputs": [],
   "source": [
    "#Lectura datos Pyton y se cargan las variables\n",
    "\n",
    "Datos=pd.read_csv('car data.csv')"
   ]
  },
  {
   "cell_type": "code",
   "execution_count": 75,
   "id": "e2e4200e-3f90-4e75-8b9f-3e6cdd863a1d",
   "metadata": {},
   "outputs": [
    {
     "data": {
      "text/html": [
       "<div>\n",
       "<style scoped>\n",
       "    .dataframe tbody tr th:only-of-type {\n",
       "        vertical-align: middle;\n",
       "    }\n",
       "\n",
       "    .dataframe tbody tr th {\n",
       "        vertical-align: top;\n",
       "    }\n",
       "\n",
       "    .dataframe thead th {\n",
       "        text-align: right;\n",
       "    }\n",
       "</style>\n",
       "<table border=\"1\" class=\"dataframe\">\n",
       "  <thead>\n",
       "    <tr style=\"text-align: right;\">\n",
       "      <th></th>\n",
       "      <th>Car_Name</th>\n",
       "      <th>Year</th>\n",
       "      <th>Selling_Price</th>\n",
       "      <th>Present_Price</th>\n",
       "      <th>Kms_Driven</th>\n",
       "      <th>Fuel_Type</th>\n",
       "      <th>Seller_Type</th>\n",
       "      <th>Transmission</th>\n",
       "      <th>Owner</th>\n",
       "    </tr>\n",
       "  </thead>\n",
       "  <tbody>\n",
       "    <tr>\n",
       "      <th>296</th>\n",
       "      <td>city</td>\n",
       "      <td>2016</td>\n",
       "      <td>9.50</td>\n",
       "      <td>11.6</td>\n",
       "      <td>33988</td>\n",
       "      <td>Diesel</td>\n",
       "      <td>Dealer</td>\n",
       "      <td>Manual</td>\n",
       "      <td>0</td>\n",
       "    </tr>\n",
       "    <tr>\n",
       "      <th>297</th>\n",
       "      <td>brio</td>\n",
       "      <td>2015</td>\n",
       "      <td>4.00</td>\n",
       "      <td>5.9</td>\n",
       "      <td>60000</td>\n",
       "      <td>Petrol</td>\n",
       "      <td>Dealer</td>\n",
       "      <td>Manual</td>\n",
       "      <td>0</td>\n",
       "    </tr>\n",
       "    <tr>\n",
       "      <th>298</th>\n",
       "      <td>city</td>\n",
       "      <td>2009</td>\n",
       "      <td>3.35</td>\n",
       "      <td>11.0</td>\n",
       "      <td>87934</td>\n",
       "      <td>Petrol</td>\n",
       "      <td>Dealer</td>\n",
       "      <td>Manual</td>\n",
       "      <td>0</td>\n",
       "    </tr>\n",
       "    <tr>\n",
       "      <th>299</th>\n",
       "      <td>city</td>\n",
       "      <td>2017</td>\n",
       "      <td>11.50</td>\n",
       "      <td>12.5</td>\n",
       "      <td>9000</td>\n",
       "      <td>Diesel</td>\n",
       "      <td>Dealer</td>\n",
       "      <td>Manual</td>\n",
       "      <td>0</td>\n",
       "    </tr>\n",
       "    <tr>\n",
       "      <th>300</th>\n",
       "      <td>brio</td>\n",
       "      <td>2016</td>\n",
       "      <td>5.30</td>\n",
       "      <td>5.9</td>\n",
       "      <td>5464</td>\n",
       "      <td>Petrol</td>\n",
       "      <td>Dealer</td>\n",
       "      <td>Manual</td>\n",
       "      <td>0</td>\n",
       "    </tr>\n",
       "  </tbody>\n",
       "</table>\n",
       "</div>"
      ],
      "text/plain": [
       "    Car_Name  Year  Selling_Price  Present_Price  Kms_Driven Fuel_Type  \\\n",
       "296     city  2016           9.50           11.6       33988    Diesel   \n",
       "297     brio  2015           4.00            5.9       60000    Petrol   \n",
       "298     city  2009           3.35           11.0       87934    Petrol   \n",
       "299     city  2017          11.50           12.5        9000    Diesel   \n",
       "300     brio  2016           5.30            5.9        5464    Petrol   \n",
       "\n",
       "    Seller_Type Transmission  Owner  \n",
       "296      Dealer       Manual      0  \n",
       "297      Dealer       Manual      0  \n",
       "298      Dealer       Manual      0  \n",
       "299      Dealer       Manual      0  \n",
       "300      Dealer       Manual      0  "
      ]
     },
     "execution_count": 75,
     "metadata": {},
     "output_type": "execute_result"
    }
   ],
   "source": [
    "Datos.tail()"
   ]
  },
  {
   "cell_type": "code",
   "execution_count": 76,
   "id": "019c8fc1-4805-4871-af94-a0ad58804d10",
   "metadata": {},
   "outputs": [
    {
     "data": {
      "text/html": [
       "<div>\n",
       "<style scoped>\n",
       "    .dataframe tbody tr th:only-of-type {\n",
       "        vertical-align: middle;\n",
       "    }\n",
       "\n",
       "    .dataframe tbody tr th {\n",
       "        vertical-align: top;\n",
       "    }\n",
       "\n",
       "    .dataframe thead th {\n",
       "        text-align: right;\n",
       "    }\n",
       "</style>\n",
       "<table border=\"1\" class=\"dataframe\">\n",
       "  <thead>\n",
       "    <tr style=\"text-align: right;\">\n",
       "      <th></th>\n",
       "      <th>Car_Name</th>\n",
       "      <th>Year</th>\n",
       "      <th>Selling_Price</th>\n",
       "      <th>Present_Price</th>\n",
       "      <th>Kms_Driven</th>\n",
       "      <th>Fuel_Type</th>\n",
       "      <th>Seller_Type</th>\n",
       "      <th>Transmission</th>\n",
       "      <th>Owner</th>\n",
       "    </tr>\n",
       "  </thead>\n",
       "  <tbody>\n",
       "    <tr>\n",
       "      <th>0</th>\n",
       "      <td>ritz</td>\n",
       "      <td>2014</td>\n",
       "      <td>3.35</td>\n",
       "      <td>5.59</td>\n",
       "      <td>27000</td>\n",
       "      <td>Petrol</td>\n",
       "      <td>Dealer</td>\n",
       "      <td>Manual</td>\n",
       "      <td>0</td>\n",
       "    </tr>\n",
       "    <tr>\n",
       "      <th>1</th>\n",
       "      <td>sx4</td>\n",
       "      <td>2013</td>\n",
       "      <td>4.75</td>\n",
       "      <td>9.54</td>\n",
       "      <td>43000</td>\n",
       "      <td>Diesel</td>\n",
       "      <td>Dealer</td>\n",
       "      <td>Manual</td>\n",
       "      <td>0</td>\n",
       "    </tr>\n",
       "    <tr>\n",
       "      <th>2</th>\n",
       "      <td>ciaz</td>\n",
       "      <td>2017</td>\n",
       "      <td>7.25</td>\n",
       "      <td>9.85</td>\n",
       "      <td>6900</td>\n",
       "      <td>Petrol</td>\n",
       "      <td>Dealer</td>\n",
       "      <td>Manual</td>\n",
       "      <td>0</td>\n",
       "    </tr>\n",
       "    <tr>\n",
       "      <th>3</th>\n",
       "      <td>wagon r</td>\n",
       "      <td>2011</td>\n",
       "      <td>2.85</td>\n",
       "      <td>4.15</td>\n",
       "      <td>5200</td>\n",
       "      <td>Petrol</td>\n",
       "      <td>Dealer</td>\n",
       "      <td>Manual</td>\n",
       "      <td>0</td>\n",
       "    </tr>\n",
       "    <tr>\n",
       "      <th>4</th>\n",
       "      <td>swift</td>\n",
       "      <td>2014</td>\n",
       "      <td>4.60</td>\n",
       "      <td>6.87</td>\n",
       "      <td>42450</td>\n",
       "      <td>Diesel</td>\n",
       "      <td>Dealer</td>\n",
       "      <td>Manual</td>\n",
       "      <td>0</td>\n",
       "    </tr>\n",
       "    <tr>\n",
       "      <th>5</th>\n",
       "      <td>vitara brezza</td>\n",
       "      <td>2018</td>\n",
       "      <td>9.25</td>\n",
       "      <td>9.83</td>\n",
       "      <td>2071</td>\n",
       "      <td>Diesel</td>\n",
       "      <td>Dealer</td>\n",
       "      <td>Manual</td>\n",
       "      <td>0</td>\n",
       "    </tr>\n",
       "    <tr>\n",
       "      <th>6</th>\n",
       "      <td>ciaz</td>\n",
       "      <td>2015</td>\n",
       "      <td>6.75</td>\n",
       "      <td>8.12</td>\n",
       "      <td>18796</td>\n",
       "      <td>Petrol</td>\n",
       "      <td>Dealer</td>\n",
       "      <td>Manual</td>\n",
       "      <td>0</td>\n",
       "    </tr>\n",
       "    <tr>\n",
       "      <th>7</th>\n",
       "      <td>s cross</td>\n",
       "      <td>2015</td>\n",
       "      <td>6.50</td>\n",
       "      <td>8.61</td>\n",
       "      <td>33429</td>\n",
       "      <td>Diesel</td>\n",
       "      <td>Dealer</td>\n",
       "      <td>Manual</td>\n",
       "      <td>0</td>\n",
       "    </tr>\n",
       "    <tr>\n",
       "      <th>8</th>\n",
       "      <td>ciaz</td>\n",
       "      <td>2016</td>\n",
       "      <td>8.75</td>\n",
       "      <td>8.89</td>\n",
       "      <td>20273</td>\n",
       "      <td>Diesel</td>\n",
       "      <td>Dealer</td>\n",
       "      <td>Manual</td>\n",
       "      <td>0</td>\n",
       "    </tr>\n",
       "    <tr>\n",
       "      <th>9</th>\n",
       "      <td>ciaz</td>\n",
       "      <td>2015</td>\n",
       "      <td>7.45</td>\n",
       "      <td>8.92</td>\n",
       "      <td>42367</td>\n",
       "      <td>Diesel</td>\n",
       "      <td>Dealer</td>\n",
       "      <td>Manual</td>\n",
       "      <td>0</td>\n",
       "    </tr>\n",
       "  </tbody>\n",
       "</table>\n",
       "</div>"
      ],
      "text/plain": [
       "        Car_Name  Year  Selling_Price  Present_Price  Kms_Driven Fuel_Type  \\\n",
       "0           ritz  2014           3.35           5.59       27000    Petrol   \n",
       "1            sx4  2013           4.75           9.54       43000    Diesel   \n",
       "2           ciaz  2017           7.25           9.85        6900    Petrol   \n",
       "3        wagon r  2011           2.85           4.15        5200    Petrol   \n",
       "4          swift  2014           4.60           6.87       42450    Diesel   \n",
       "5  vitara brezza  2018           9.25           9.83        2071    Diesel   \n",
       "6           ciaz  2015           6.75           8.12       18796    Petrol   \n",
       "7        s cross  2015           6.50           8.61       33429    Diesel   \n",
       "8           ciaz  2016           8.75           8.89       20273    Diesel   \n",
       "9           ciaz  2015           7.45           8.92       42367    Diesel   \n",
       "\n",
       "  Seller_Type Transmission  Owner  \n",
       "0      Dealer       Manual      0  \n",
       "1      Dealer       Manual      0  \n",
       "2      Dealer       Manual      0  \n",
       "3      Dealer       Manual      0  \n",
       "4      Dealer       Manual      0  \n",
       "5      Dealer       Manual      0  \n",
       "6      Dealer       Manual      0  \n",
       "7      Dealer       Manual      0  \n",
       "8      Dealer       Manual      0  \n",
       "9      Dealer       Manual      0  "
      ]
     },
     "execution_count": 76,
     "metadata": {},
     "output_type": "execute_result"
    }
   ],
   "source": [
    "Datos.head(10)"
   ]
  },
  {
   "cell_type": "code",
   "execution_count": 77,
   "id": "cbfbe841-f695-4a25-8b8c-552970909e4e",
   "metadata": {},
   "outputs": [
    {
     "data": {
      "text/html": [
       "<div>\n",
       "<style scoped>\n",
       "    .dataframe tbody tr th:only-of-type {\n",
       "        vertical-align: middle;\n",
       "    }\n",
       "\n",
       "    .dataframe tbody tr th {\n",
       "        vertical-align: top;\n",
       "    }\n",
       "\n",
       "    .dataframe thead th {\n",
       "        text-align: right;\n",
       "    }\n",
       "</style>\n",
       "<table border=\"1\" class=\"dataframe\">\n",
       "  <thead>\n",
       "    <tr style=\"text-align: right;\">\n",
       "      <th></th>\n",
       "      <th>Year</th>\n",
       "      <th>Selling_Price</th>\n",
       "      <th>Present_Price</th>\n",
       "      <th>Kms_Driven</th>\n",
       "      <th>Owner</th>\n",
       "    </tr>\n",
       "  </thead>\n",
       "  <tbody>\n",
       "    <tr>\n",
       "      <th>count</th>\n",
       "      <td>301.000000</td>\n",
       "      <td>301.000000</td>\n",
       "      <td>301.000000</td>\n",
       "      <td>301.000000</td>\n",
       "      <td>301.000000</td>\n",
       "    </tr>\n",
       "    <tr>\n",
       "      <th>mean</th>\n",
       "      <td>2013.627907</td>\n",
       "      <td>4.661296</td>\n",
       "      <td>7.628472</td>\n",
       "      <td>36947.205980</td>\n",
       "      <td>0.043189</td>\n",
       "    </tr>\n",
       "    <tr>\n",
       "      <th>std</th>\n",
       "      <td>2.891554</td>\n",
       "      <td>5.082812</td>\n",
       "      <td>8.644115</td>\n",
       "      <td>38886.883882</td>\n",
       "      <td>0.247915</td>\n",
       "    </tr>\n",
       "    <tr>\n",
       "      <th>min</th>\n",
       "      <td>2003.000000</td>\n",
       "      <td>0.100000</td>\n",
       "      <td>0.320000</td>\n",
       "      <td>500.000000</td>\n",
       "      <td>0.000000</td>\n",
       "    </tr>\n",
       "    <tr>\n",
       "      <th>25%</th>\n",
       "      <td>2012.000000</td>\n",
       "      <td>0.900000</td>\n",
       "      <td>1.200000</td>\n",
       "      <td>15000.000000</td>\n",
       "      <td>0.000000</td>\n",
       "    </tr>\n",
       "    <tr>\n",
       "      <th>50%</th>\n",
       "      <td>2014.000000</td>\n",
       "      <td>3.600000</td>\n",
       "      <td>6.400000</td>\n",
       "      <td>32000.000000</td>\n",
       "      <td>0.000000</td>\n",
       "    </tr>\n",
       "    <tr>\n",
       "      <th>75%</th>\n",
       "      <td>2016.000000</td>\n",
       "      <td>6.000000</td>\n",
       "      <td>9.900000</td>\n",
       "      <td>48767.000000</td>\n",
       "      <td>0.000000</td>\n",
       "    </tr>\n",
       "    <tr>\n",
       "      <th>max</th>\n",
       "      <td>2018.000000</td>\n",
       "      <td>35.000000</td>\n",
       "      <td>92.600000</td>\n",
       "      <td>500000.000000</td>\n",
       "      <td>3.000000</td>\n",
       "    </tr>\n",
       "  </tbody>\n",
       "</table>\n",
       "</div>"
      ],
      "text/plain": [
       "              Year  Selling_Price  Present_Price     Kms_Driven       Owner\n",
       "count   301.000000     301.000000     301.000000     301.000000  301.000000\n",
       "mean   2013.627907       4.661296       7.628472   36947.205980    0.043189\n",
       "std       2.891554       5.082812       8.644115   38886.883882    0.247915\n",
       "min    2003.000000       0.100000       0.320000     500.000000    0.000000\n",
       "25%    2012.000000       0.900000       1.200000   15000.000000    0.000000\n",
       "50%    2014.000000       3.600000       6.400000   32000.000000    0.000000\n",
       "75%    2016.000000       6.000000       9.900000   48767.000000    0.000000\n",
       "max    2018.000000      35.000000      92.600000  500000.000000    3.000000"
      ]
     },
     "execution_count": 77,
     "metadata": {},
     "output_type": "execute_result"
    }
   ],
   "source": [
    "#Descripción de los datos\n",
    "\n",
    "Datos.describe()"
   ]
  },
  {
   "cell_type": "code",
   "execution_count": 78,
   "id": "6fef81f1-4973-476f-91cc-6ff7ef33f44b",
   "metadata": {},
   "outputs": [
    {
     "data": {
      "text/plain": [
       "Text(0.5, 1.0, 'Identificación de Datos Faltantes y Atípicos')"
      ]
     },
     "execution_count": 78,
     "metadata": {},
     "output_type": "execute_result"
    },
    {
     "data": {
      "image/png": "[encoded data removed]",
      "text/plain": [
       "<Figure size 600x300 with 1 Axes>"
      ]
     },
     "metadata": {},
     "output_type": "display_data"
    }
   ],
   "source": [
    "#Identificación de Datos Faltantes y Atípicos\n",
    "\n",
    "plt.figure(figsize=(6, 3))\n",
    "sns.boxplot(x=Datos['Selling_Price'])\n",
    "plt.title('Identificación de Datos Faltantes y Atípicos', fontsize=10)"
   ]
  },
  {
   "cell_type": "code",
   "execution_count": 79,
   "id": "0a03f78d-e998-4f7d-b993-d1a5e6201c4e",
   "metadata": {},
   "outputs": [
    {
     "data": {
      "text/plain": [
       "Text(0.5, 1.0, 'Identificación de Datos Faltantes y Atípicos')"
      ]
     },
     "execution_count": 79,
     "metadata": {},
     "output_type": "execute_result"
    },
    {
     "data": {
      "image/png": "[encoded data removed]",
      "text/plain": [
       "<Figure size 600x300 with 1 Axes>"
      ]
     },
     "metadata": {},
     "output_type": "display_data"
    }
   ],
   "source": [
    "plt.figure(figsize=(6, 3))\n",
    "sns.boxplot(x=Datos['Kms_Driven'])\n",
    "plt.title('Identificación de Datos Faltantes y Atípicos', fontsize=10)"
   ]
  },
  {
   "cell_type": "markdown",
   "id": "52c7e051-7434-47c4-956e-25b96f3bbf48",
   "metadata": {},
   "source": [
    "**------------------------------------------------------------------**"
   ]
  },
  {
   "cell_type": "markdown",
   "id": "917c010f-3dea-4780-9bec-631e6c29bd19",
   "metadata": {},
   "source": [
    "**2. Preprocesar los datos limpiándolos, tratando valores faltantes y transformándolos según sea necesario.**"
   ]
  },
  {
   "cell_type": "code",
   "execution_count": 80,
   "id": "08f0fd6c-53b5-468c-8d6a-cfa867a8f567",
   "metadata": {},
   "outputs": [
    {
     "data": {
      "text/html": [
       "<div>\n",
       "<style scoped>\n",
       "    .dataframe tbody tr th:only-of-type {\n",
       "        vertical-align: middle;\n",
       "    }\n",
       "\n",
       "    .dataframe tbody tr th {\n",
       "        vertical-align: top;\n",
       "    }\n",
       "\n",
       "    .dataframe thead th {\n",
       "        text-align: right;\n",
       "    }\n",
       "</style>\n",
       "<table border=\"1\" class=\"dataframe\">\n",
       "  <thead>\n",
       "    <tr style=\"text-align: right;\">\n",
       "      <th></th>\n",
       "      <th>Car_Name</th>\n",
       "      <th>Year</th>\n",
       "      <th>Selling_Price</th>\n",
       "      <th>Present_Price</th>\n",
       "      <th>Kms_Driven</th>\n",
       "      <th>Fuel_Type</th>\n",
       "      <th>Seller_Type</th>\n",
       "      <th>Transmission</th>\n",
       "      <th>Owner</th>\n",
       "    </tr>\n",
       "  </thead>\n",
       "  <tbody>\n",
       "    <tr>\n",
       "      <th>0</th>\n",
       "      <td>ritz</td>\n",
       "      <td>2014</td>\n",
       "      <td>3.35</td>\n",
       "      <td>5.59</td>\n",
       "      <td>27000</td>\n",
       "      <td>Petrol</td>\n",
       "      <td>Dealer</td>\n",
       "      <td>Manual</td>\n",
       "      <td>0</td>\n",
       "    </tr>\n",
       "    <tr>\n",
       "      <th>1</th>\n",
       "      <td>sx4</td>\n",
       "      <td>2013</td>\n",
       "      <td>4.75</td>\n",
       "      <td>9.54</td>\n",
       "      <td>43000</td>\n",
       "      <td>Diesel</td>\n",
       "      <td>Dealer</td>\n",
       "      <td>Manual</td>\n",
       "      <td>0</td>\n",
       "    </tr>\n",
       "    <tr>\n",
       "      <th>2</th>\n",
       "      <td>ciaz</td>\n",
       "      <td>2017</td>\n",
       "      <td>7.25</td>\n",
       "      <td>9.85</td>\n",
       "      <td>6900</td>\n",
       "      <td>Petrol</td>\n",
       "      <td>Dealer</td>\n",
       "      <td>Manual</td>\n",
       "      <td>0</td>\n",
       "    </tr>\n",
       "    <tr>\n",
       "      <th>3</th>\n",
       "      <td>wagon r</td>\n",
       "      <td>2011</td>\n",
       "      <td>2.85</td>\n",
       "      <td>4.15</td>\n",
       "      <td>5200</td>\n",
       "      <td>Petrol</td>\n",
       "      <td>Dealer</td>\n",
       "      <td>Manual</td>\n",
       "      <td>0</td>\n",
       "    </tr>\n",
       "    <tr>\n",
       "      <th>4</th>\n",
       "      <td>swift</td>\n",
       "      <td>2014</td>\n",
       "      <td>4.60</td>\n",
       "      <td>6.87</td>\n",
       "      <td>42450</td>\n",
       "      <td>Diesel</td>\n",
       "      <td>Dealer</td>\n",
       "      <td>Manual</td>\n",
       "      <td>0</td>\n",
       "    </tr>\n",
       "  </tbody>\n",
       "</table>\n",
       "</div>"
      ],
      "text/plain": [
       "  Car_Name  Year  Selling_Price  Present_Price  Kms_Driven Fuel_Type  \\\n",
       "0     ritz  2014           3.35           5.59       27000    Petrol   \n",
       "1      sx4  2013           4.75           9.54       43000    Diesel   \n",
       "2     ciaz  2017           7.25           9.85        6900    Petrol   \n",
       "3  wagon r  2011           2.85           4.15        5200    Petrol   \n",
       "4    swift  2014           4.60           6.87       42450    Diesel   \n",
       "\n",
       "  Seller_Type Transmission  Owner  \n",
       "0      Dealer       Manual      0  \n",
       "1      Dealer       Manual      0  \n",
       "2      Dealer       Manual      0  \n",
       "3      Dealer       Manual      0  \n",
       "4      Dealer       Manual      0  "
      ]
     },
     "execution_count": 80,
     "metadata": {},
     "output_type": "execute_result"
    }
   ],
   "source": [
    "Datos.head()"
   ]
  },
  {
   "cell_type": "code",
   "execution_count": null,
   "id": "1c0755e3-8de3-4b91-af30-5236d0d6158a",
   "metadata": {},
   "outputs": [],
   "source": []
  },
  {
   "cell_type": "code",
   "execution_count": 81,
   "id": "f49fcd22-b82b-4cdb-b95d-d2b0e3197fe7",
   "metadata": {},
   "outputs": [
    {
     "name": "stdout",
     "output_type": "stream",
     "text": [
      "Cantidad de Registros con cero en Nombre:  0\n",
      "Cantidad de Registros con cero en Año:  0\n",
      "Cantidad de Registros con cero en Precio de Ventas:  0\n",
      "Cantidad de Registros con cero en Precio de Ventas:  0\n",
      "Cantidad de Registros con cero en Kilometros Recorridos:  0\n",
      "Cantidad de Registros con cero en Combustible:  0\n",
      "Cantidad de Registros con cero en Tipo Vendedor:  0\n",
      "Cantidad de Registros con cero en Transmisión:  0\n",
      "Cantidad de Registros con cero en Propietario:  290\n"
     ]
    }
   ],
   "source": [
    "#Revisión de Datos Faltantes\n",
    "\n",
    "print(\"Cantidad de Registros con cero en Nombre: \", Datos['Car_Name'].isin([0]).sum())\n",
    "print(\"Cantidad de Registros con cero en Año: \", Datos['Year'].isin([0]).sum())\n",
    "print(\"Cantidad de Registros con cero en Precio de Ventas: \", Datos['Selling_Price'].isin([0]).sum())\n",
    "print(\"Cantidad de Registros con cero en Precio de Ventas: \", Datos['Present_Price'].isin([0]).sum())\n",
    "print(\"Cantidad de Registros con cero en Kilometros Recorridos: \", Datos['Kms_Driven'].isin([0]).sum())\n",
    "print(\"Cantidad de Registros con cero en Combustible: \", Datos['Fuel_Type'].isin([0]).sum())\n",
    "print(\"Cantidad de Registros con cero en Tipo Vendedor: \", Datos['Seller_Type'].isin([0]).sum())\n",
    "print(\"Cantidad de Registros con cero en Transmisión: \", Datos['Transmission'].isin([0]).sum())\n",
    "print(\"Cantidad de Registros con cero en Propietario: \", Datos['Owner'].isin([0]).sum())\n",
    "\n",
    "\n"
   ]
  },
  {
   "cell_type": "code",
   "execution_count": 82,
   "id": "d3b7fac1-3ba9-4b3b-b009-023cd6afcbfd",
   "metadata": {},
   "outputs": [],
   "source": [
    "Datos ['Owner']=Datos['Owner'].replace(0,Datos['Owner'].mean())\n"
   ]
  },
  {
   "cell_type": "code",
   "execution_count": 83,
   "id": "4ec78552-0f3f-4250-8cc8-171486c6d377",
   "metadata": {},
   "outputs": [
    {
     "name": "stdout",
     "output_type": "stream",
     "text": [
      "Cantidad de Registros con cero en Nombre:  0\n",
      "Cantidad de Registros con cero en Año:  0\n",
      "Cantidad de Registros con cero en Precio de Ventas:  0\n",
      "Cantidad de Registros con cero en Precio de Ventas:  0\n",
      "Cantidad de Registros con cero en Kilometros Recorridos:  0\n",
      "Cantidad de Registros con cero en Combustible:  0\n",
      "Cantidad de Registros con cero en Tipo Vendedor:  0\n",
      "Cantidad de Registros con cero en Transmisión:  0\n",
      "Cantidad de Registros con cero en Propietario:  0\n"
     ]
    }
   ],
   "source": [
    "print(\"Cantidad de Registros con cero en Nombre: \", Datos['Car_Name'].isin([0]).sum())\n",
    "print(\"Cantidad de Registros con cero en Año: \", Datos['Year'].isin([0]).sum())\n",
    "print(\"Cantidad de Registros con cero en Precio de Ventas: \", Datos['Selling_Price'].isin([0]).sum())\n",
    "print(\"Cantidad de Registros con cero en Precio de Ventas: \", Datos['Present_Price'].isin([0]).sum())\n",
    "print(\"Cantidad de Registros con cero en Kilometros Recorridos: \", Datos['Kms_Driven'].isin([0]).sum())\n",
    "print(\"Cantidad de Registros con cero en Combustible: \", Datos['Fuel_Type'].isin([0]).sum())\n",
    "print(\"Cantidad de Registros con cero en Tipo Vendedor: \", Datos['Seller_Type'].isin([0]).sum())\n",
    "print(\"Cantidad de Registros con cero en Transmisión: \", Datos['Transmission'].isin([0]).sum())\n",
    "print(\"Cantidad de Registros con cero en Propietario: \", Datos['Owner'].isin([0]).sum())"
   ]
  },
  {
   "cell_type": "code",
   "execution_count": 84,
   "id": "4ce6a028-f754-4226-9bba-682f83a812ef",
   "metadata": {},
   "outputs": [
    {
     "data": {
      "text/plain": [
       "Car_Name          object\n",
       "Year               int64\n",
       "Selling_Price    float64\n",
       "Present_Price    float64\n",
       "Kms_Driven         int64\n",
       "Fuel_Type         object\n",
       "Seller_Type       object\n",
       "Transmission      object\n",
       "Owner            float64\n",
       "dtype: object"
      ]
     },
     "execution_count": 84,
     "metadata": {},
     "output_type": "execute_result"
    }
   ],
   "source": [
    "Datos.dtypes # Analizamos los tipos de datos"
   ]
  },
  {
   "cell_type": "code",
   "execution_count": 85,
   "id": "e62ff17b-73b7-4f94-81dc-6995949b6f68",
   "metadata": {},
   "outputs": [],
   "source": [
    "# Se convierten datos float y otros en int\n",
    "\n",
    "#Datos['Car_Name'] = Datos['Car_Name'].astype(int)\n",
    "Datos['Year'] = Datos['Year'].astype(int)\n",
    "Datos['Selling_Price'] = Datos['Selling_Price'].astype(int)\n",
    "Datos['Present_Price'] = Datos['Present_Price'].astype(int)\n",
    "Datos['Kms_Driven'] = Datos['Kms_Driven'].astype(int)\n",
    "#Datos['Fuel_Type'] = Datos['Fuel_Type'].astype(int)\n",
    "#Datos['Seller_Type'] = Datos['Seller_Type'].astype(int)\n",
    "#Datos['Transmission'] = Datos['Transmission'].astype(int)\n",
    "Datos['Owner'] = Datos['Owner'].astype(int)"
   ]
  },
  {
   "cell_type": "code",
   "execution_count": 86,
   "id": "3c321f6f-93b2-42d0-baa6-cd9d5550a6c9",
   "metadata": {},
   "outputs": [
    {
     "data": {
      "text/plain": [
       "Car_Name         object\n",
       "Year              int32\n",
       "Selling_Price     int32\n",
       "Present_Price     int32\n",
       "Kms_Driven        int32\n",
       "Fuel_Type        object\n",
       "Seller_Type      object\n",
       "Transmission     object\n",
       "Owner             int32\n",
       "dtype: object"
      ]
     },
     "execution_count": 86,
     "metadata": {},
     "output_type": "execute_result"
    }
   ],
   "source": [
    "Datos.dtypes # Analizamos los tipos de datos"
   ]
  },
  {
   "cell_type": "code",
   "execution_count": 87,
   "id": "5388182b-4836-4c5e-80a8-ff67dc924004",
   "metadata": {},
   "outputs": [
    {
     "data": {
      "text/plain": [
       "Text(0.5, 1.0, 'Identificación de Datos Faltantes y Atípicos')"
      ]
     },
     "execution_count": 87,
     "metadata": {},
     "output_type": "execute_result"
    },
    {
     "data": {
      "image/png": "[encoded data removed]",
      "text/plain": [
       "<Figure size 600x300 with 1 Axes>"
      ]
     },
     "metadata": {},
     "output_type": "display_data"
    }
   ],
   "source": [
    "#Identificación de Datos Faltantes y Atípicos\n",
    "\n",
    "plt.figure(figsize=(6, 3))\n",
    "sns.boxplot(x=Datos['Selling_Price'])\n",
    "plt.title('Identificación de Datos Faltantes y Atípicos', fontsize=10)"
   ]
  },
  {
   "cell_type": "code",
   "execution_count": 88,
   "id": "69c5caac-1306-4dcc-abad-0cb633e79f08",
   "metadata": {},
   "outputs": [
    {
     "name": "stdout",
     "output_type": "stream",
     "text": [
      "El total de datos atipicos es: 11\n"
     ]
    }
   ],
   "source": [
    "#Conteo Datos Atípicos\n",
    "\n",
    "# Vehiculos hasta el año 2003 son obsoletos y viejos, son atipicos\n",
    "\n",
    "fecha_maxima<=2006\n",
    "Total_Atipicos=((Datos['Year']<=fecha_maxima)).sum()\n",
    "print(\"El total de datos atipicos es: {}\".format(Total_Atipicos))"
   ]
  },
  {
   "cell_type": "code",
   "execution_count": 89,
   "id": "ad9a067a-ef9a-4541-b3d5-ee9a810828e3",
   "metadata": {},
   "outputs": [
    {
     "name": "stdout",
     "output_type": "stream",
     "text": [
      "El total de datos atipicos es: 2\n"
     ]
    }
   ],
   "source": [
    "#Conteo Datos Atípicos\n",
    "\n",
    "# Los vehiculos deben tener un Kilometraje como maximo hasta 200.000 km\n",
    "\n",
    "km_maximo=200000\n",
    "Total_Atipicos=((Datos['Kms_Driven']>=km_maximo)).sum()\n",
    "print(\"El total de datos atipicos es: {}\".format(Total_Atipicos))"
   ]
  },
  {
   "cell_type": "code",
   "execution_count": 90,
   "id": "e12ec2bf-d839-4f3d-bdc8-22c38960ab6b",
   "metadata": {},
   "outputs": [
    {
     "name": "stdout",
     "output_type": "stream",
     "text": [
      "<class 'pandas.core.frame.DataFrame'>\n",
      "RangeIndex: 301 entries, 0 to 300\n",
      "Data columns (total 9 columns):\n",
      " #   Column         Non-Null Count  Dtype \n",
      "---  ------         --------------  ----- \n",
      " 0   Car_Name       301 non-null    object\n",
      " 1   Year           301 non-null    int32 \n",
      " 2   Selling_Price  301 non-null    int32 \n",
      " 3   Present_Price  301 non-null    int32 \n",
      " 4   Kms_Driven     301 non-null    int32 \n",
      " 5   Fuel_Type      301 non-null    object\n",
      " 6   Seller_Type    301 non-null    object\n",
      " 7   Transmission   301 non-null    object\n",
      " 8   Owner          301 non-null    int32 \n",
      "dtypes: int32(5), object(4)\n",
      "memory usage: 15.4+ KB\n"
     ]
    }
   ],
   "source": [
    "#Revision tipo de datos\n",
    "\n",
    "Datos.info()"
   ]
  },
  {
   "cell_type": "markdown",
   "id": "a6143735-f6e9-4962-b299-00d8c815641c",
   "metadata": {},
   "source": []
  },
  {
   "cell_type": "markdown",
   "id": "8e6a00ce-8de4-47a7-ab48-6c61e06105f7",
   "metadata": {},
   "source": [
    "**3.\tSeleccionar las características más relevantes para entrenar el modelo utilizando selección de características.**"
   ]
  },
  {
   "cell_type": "code",
   "execution_count": null,
   "id": "054aac29-7f8b-49c7-94b0-ad6b57605877",
   "metadata": {},
   "outputs": [],
   "source": []
  },
  {
   "cell_type": "code",
   "execution_count": 91,
   "id": "cac3df59-c023-48d4-8ea6-888399889785",
   "metadata": {},
   "outputs": [
    {
     "data": {
      "text/plain": [
       "Year\n",
       "2015    61\n",
       "2016    50\n",
       "2014    38\n",
       "2017    35\n",
       "2013    33\n",
       "2012    23\n",
       "2011    19\n",
       "2010    15\n",
       "2008     7\n",
       "2009     6\n",
       "2006     4\n",
       "2005     4\n",
       "2003     2\n",
       "2007     2\n",
       "2018     1\n",
       "2004     1\n",
       "Name: count, dtype: int64"
      ]
     },
     "execution_count": 91,
     "metadata": {},
     "output_type": "execute_result"
    }
   ],
   "source": [
    "# Fecha Modelo Vehiculo\n",
    "\n",
    "Datos['Year'].value_counts()"
   ]
  },
  {
   "cell_type": "code",
   "execution_count": 92,
   "id": "78c27ea4-1498-448f-852b-61a16bae20da",
   "metadata": {},
   "outputs": [
    {
     "data": {
      "text/plain": [
       "Kms_Driven\n",
       "45000    9\n",
       "15000    9\n",
       "40000    5\n",
       "35000    5\n",
       "50000    5\n",
       "        ..\n",
       "1400     1\n",
       "1200     1\n",
       "4100     1\n",
       "21700    1\n",
       "5464     1\n",
       "Name: count, Length: 206, dtype: int64"
      ]
     },
     "execution_count": 92,
     "metadata": {},
     "output_type": "execute_result"
    }
   ],
   "source": [
    "# Fecha Modelo Vehiculo\n",
    "\n",
    "Datos['Kms_Driven'].value_counts()"
   ]
  },
  {
   "cell_type": "code",
   "execution_count": 93,
   "id": "8859b9f6-4413-4b1c-8b48-a1a76633972e",
   "metadata": {},
   "outputs": [
    {
     "data": {
      "text/plain": [
       "Selling_Price\n",
       "0     78\n",
       "4     34\n",
       "5     30\n",
       "1     29\n",
       "3     28\n",
       "2     24\n",
       "6     17\n",
       "7     15\n",
       "8     10\n",
       "9      8\n",
       "11     6\n",
       "23     4\n",
       "14     4\n",
       "10     3\n",
       "18     2\n",
       "19     2\n",
       "12     2\n",
       "16     1\n",
       "33     1\n",
       "35     1\n",
       "20     1\n",
       "17     1\n",
       "Name: count, dtype: int64"
      ]
     },
     "execution_count": 93,
     "metadata": {},
     "output_type": "execute_result"
    }
   ],
   "source": [
    "# Precio venta vehiculo\n",
    "\n",
    "Datos['Selling_Price'].value_counts()"
   ]
  },
  {
   "cell_type": "code",
   "execution_count": 94,
   "id": "7388125a-7274-4bda-8671-231e4bcea253",
   "metadata": {},
   "outputs": [
    {
     "data": {
      "text/plain": [
       "Present_Price\n",
       "0     71\n",
       "7     27\n",
       "1     27\n",
       "9     25\n",
       "5     22\n",
       "13    19\n",
       "6     18\n",
       "4     17\n",
       "8     13\n",
       "10    10\n",
       "18     7\n",
       "3      7\n",
       "30     5\n",
       "14     5\n",
       "12     4\n",
       "2      4\n",
       "35     3\n",
       "20     3\n",
       "11     3\n",
       "23     2\n",
       "22     2\n",
       "25     2\n",
       "19     1\n",
       "15     1\n",
       "36     1\n",
       "92     1\n",
       "16     1\n",
       "Name: count, dtype: int64"
      ]
     },
     "execution_count": 94,
     "metadata": {},
     "output_type": "execute_result"
    }
   ],
   "source": [
    "# Precio presente vehiculo\n",
    "\n",
    "Datos['Present_Price'].value_counts()"
   ]
  },
  {
   "cell_type": "markdown",
   "id": "9dc87192-16ac-4cac-bab3-a778a0413726",
   "metadata": {},
   "source": [
    "**4.\tDividir el dataset en Train y Test para evaluar correctamente el modelo.**"
   ]
  },
  {
   "cell_type": "code",
   "execution_count": 95,
   "id": "13ab9102-4467-4e3a-8c22-79f7f54bb9a8",
   "metadata": {},
   "outputs": [],
   "source": [
    "#Se crean los modelos de Entrenamiento y Prueba (Train y test)\n",
    "\n",
    "X = Datos[['Year','Selling_Price','Kms_Driven','Owner']]\n",
    "Y = Datos['Present_Price']\n",
    "\n",
    "X_train, X_test, Y_train, Y_test = train_test_split(X, Y, test_size=0.25, random_state=0)"
   ]
  },
  {
   "cell_type": "code",
   "execution_count": 96,
   "id": "4775ad5b-d4c7-4dd7-bbe6-d36d27543aa3",
   "metadata": {},
   "outputs": [
    {
     "name": "stdout",
     "output_type": "stream",
     "text": [
      "     Year  Selling_Price  Kms_Driven  Owner\n",
      "146  2014              0       15000      0\n",
      "260  2016              9       29223      0\n",
      "37   2003              0      127000      0\n",
      "273  2010              2       61203      0\n",
      "164  2016              0       14000      0\n",
      "..    ...            ...         ...    ...\n",
      "251  2013              5       56701      0\n",
      "192  2007              0       49000      1\n",
      "117  2015              1       14000      0\n",
      "47   2006              1       65000      0\n",
      "172  2014              0       13700      0\n",
      "\n",
      "[225 rows x 4 columns]\n"
     ]
    }
   ],
   "source": [
    "print (X_train)"
   ]
  },
  {
   "cell_type": "code",
   "execution_count": 97,
   "id": "342e4ae7-4be2-435d-8016-828333d19308",
   "metadata": {},
   "outputs": [
    {
     "name": "stdout",
     "output_type": "stream",
     "text": [
      "146     0\n",
      "260    13\n",
      "37      2\n",
      "273     7\n",
      "164     0\n",
      "       ..\n",
      "251     9\n",
      "192     0\n",
      "117     1\n",
      "47      4\n",
      "172     0\n",
      "Name: Present_Price, Length: 225, dtype: int32\n"
     ]
    }
   ],
   "source": [
    "print (Y_train)"
   ]
  },
  {
   "cell_type": "code",
   "execution_count": null,
   "id": "b1f75091-9cb1-4759-84c7-99515c3abc65",
   "metadata": {},
   "outputs": [],
   "source": []
  },
  {
   "cell_type": "markdown",
   "id": "6d0909ec-f7f4-4613-8136-fcd63e89235f",
   "metadata": {},
   "source": [
    "**5.\tEntrenar el modelo configurando los diferentes hiperparámetros.**"
   ]
  },
  {
   "cell_type": "code",
   "execution_count": 98,
   "id": "3241ce70-0d75-435c-9b42-586438ef3549",
   "metadata": {},
   "outputs": [],
   "source": [
    "from sklearn.linear_model import LinearRegression"
   ]
  },
  {
   "cell_type": "code",
   "execution_count": 99,
   "id": "3ed9e904-85e1-4418-aada-f6b1c35e385a",
   "metadata": {},
   "outputs": [],
   "source": [
    "modelo_regresion = LinearRegression ()\n",
    "modelo_regresion.fit(X_train, Y_train)\n",
    "Prediccion = modelo_regresion.predict(X_test)"
   ]
  },
  {
   "cell_type": "code",
   "execution_count": 100,
   "id": "30cb3f94-3912-4a7d-a7b0-9907d841b752",
   "metadata": {},
   "outputs": [
    {
     "name": "stdout",
     "output_type": "stream",
     "text": [
      "223     9\n",
      "150     0\n",
      "226     5\n",
      "296    11\n",
      "52     19\n",
      "       ..\n",
      "46      4\n",
      "158     0\n",
      "230     9\n",
      "179     1\n",
      "27      6\n",
      "Name: Present_Price, Length: 76, dtype: int32\n"
     ]
    }
   ],
   "source": [
    "print (Y_test)"
   ]
  },
  {
   "cell_type": "code",
   "execution_count": 101,
   "id": "3542e69b-0e01-43e0-b38a-e113343d9912",
   "metadata": {},
   "outputs": [
    {
     "data": {
      "text/plain": [
       "array([12.90954265,  1.4310924 ,  7.4396465 , 13.67991344, 28.18546019,\n",
       "        6.58222477,  6.15178851, -1.99604638,  7.15423412,  7.86915526,\n",
       "        5.00203774, -2.00080338,  6.04439711, 10.76137279, 10.35185083,\n",
       "       29.85430557, 10.08602035,  6.5544323 ,  1.65942823, -0.96125319,\n",
       "        8.67731352,  8.88061149,  8.90107522, 16.98604629,  3.97258931,\n",
       "       -2.63390417,  2.08755792, -0.43015401,  0.82177659,  8.51251955,\n",
       "       10.04087058, 11.75124832, -0.41588302, 11.84252766,  8.50835242,\n",
       "       -0.21588728,  8.38809069,  5.87851854,  5.96754625, 13.60085957,\n",
       "       12.02442779, 32.16746665,  7.24759703,  8.1576204 ,  8.30890362,\n",
       "       18.81913174,  0.30760071, -0.24157506,  9.07274571,  9.22980481,\n",
       "       11.43728655,  1.52716725,  7.4229188 , 38.37624228, -0.12740714,\n",
       "        0.62461857,  0.1744048 ,  5.33010876,  7.37436889,  3.5285821 ,\n",
       "       11.26374457,  6.963534  ,  4.33746465, 53.70335461,  4.78111376,\n",
       "        6.80075168, 12.89712689,  8.43640761, -2.66910594,  5.19691286,\n",
       "        1.64609217,  4.04994063, -2.5996538 , 10.69171875,  4.07640272,\n",
       "        7.71406069])"
      ]
     },
     "execution_count": 101,
     "metadata": {},
     "output_type": "execute_result"
    }
   ],
   "source": [
    "Prediccion"
   ]
  },
  {
   "cell_type": "markdown",
   "id": "2286f8bc-8539-4a1e-93a0-4e547e75b519",
   "metadata": {},
   "source": [
    "**---------------------------------------------------------------------**"
   ]
  },
  {
   "cell_type": "markdown",
   "id": "fd1e6724-bbb6-4569-9413-71ab65c9934d",
   "metadata": {},
   "source": [
    "**6.\tEvaluar el desempeño del modelo en el conjunto de Test con métricas como precisión, recall, F1-score, etc.**"
   ]
  },
  {
   "cell_type": "code",
   "execution_count": 102,
   "id": "7d4a292f-8250-450b-9467-fd95b125951a",
   "metadata": {},
   "outputs": [
    {
     "name": "stdout",
     "output_type": "stream",
     "text": [
      "              precision    recall  f1-score   support\n",
      "\n",
      "           0       1.00      1.00      1.00        71\n",
      "           1       1.00      1.00      1.00        27\n",
      "           2       1.00      1.00      1.00         4\n",
      "           3       1.00      1.00      1.00         7\n",
      "           4       1.00      1.00      1.00        17\n",
      "           5       1.00      1.00      1.00        22\n",
      "           6       1.00      1.00      1.00        18\n",
      "           7       1.00      1.00      1.00        27\n",
      "           8       1.00      1.00      1.00        13\n",
      "           9       1.00      1.00      1.00        25\n",
      "          10       1.00      1.00      1.00        10\n",
      "          11       1.00      1.00      1.00         3\n",
      "          12       1.00      1.00      1.00         4\n",
      "          13       1.00      1.00      1.00        19\n",
      "          14       1.00      1.00      1.00         5\n",
      "          15       1.00      1.00      1.00         1\n",
      "          16       1.00      1.00      1.00         1\n",
      "          18       1.00      1.00      1.00         7\n",
      "          19       1.00      1.00      1.00         1\n",
      "          20       1.00      1.00      1.00         3\n",
      "          22       1.00      1.00      1.00         2\n",
      "          23       1.00      1.00      1.00         2\n",
      "          25       1.00      1.00      1.00         2\n",
      "          30       1.00      1.00      1.00         5\n",
      "          35       1.00      1.00      1.00         3\n",
      "          36       1.00      1.00      1.00         1\n",
      "          92       1.00      1.00      1.00         1\n",
      "\n",
      "    accuracy                           1.00       301\n",
      "   macro avg       1.00      1.00      1.00       301\n",
      "weighted avg       1.00      1.00      1.00       301\n",
      "\n"
     ]
    }
   ],
   "source": [
    "from sklearn.metrics import classification_report\n",
    "print(classification_report(Y, Y))"
   ]
  },
  {
   "cell_type": "markdown",
   "id": "46356a5c-9d19-4e13-8af2-83af7f8091fa",
   "metadata": {},
   "source": [
    "**--------------------------------------------------------------------------------**"
   ]
  },
  {
   "cell_type": "markdown",
   "id": "4b253615-b047-493c-af01-1c2f58df3f70",
   "metadata": {},
   "source": [
    "**7.\tRealizar las diferentes gráficas que permitan visualizar los resultados del modelo.**"
   ]
  },
  {
   "cell_type": "code",
   "execution_count": 103,
   "id": "9b31f508-1572-445b-b499-3ccecc81b89e",
   "metadata": {},
   "outputs": [
    {
     "data": {
      "text/html": [
       "<div>\n",
       "<style scoped>\n",
       "    .dataframe tbody tr th:only-of-type {\n",
       "        vertical-align: middle;\n",
       "    }\n",
       "\n",
       "    .dataframe tbody tr th {\n",
       "        vertical-align: top;\n",
       "    }\n",
       "\n",
       "    .dataframe thead th {\n",
       "        text-align: right;\n",
       "    }\n",
       "</style>\n",
       "<table border=\"1\" class=\"dataframe\">\n",
       "  <thead>\n",
       "    <tr style=\"text-align: right;\">\n",
       "      <th></th>\n",
       "      <th>Car_Name</th>\n",
       "      <th>Year</th>\n",
       "      <th>Selling_Price</th>\n",
       "      <th>Present_Price</th>\n",
       "      <th>Kms_Driven</th>\n",
       "      <th>Fuel_Type</th>\n",
       "      <th>Seller_Type</th>\n",
       "      <th>Transmission</th>\n",
       "      <th>Owner</th>\n",
       "    </tr>\n",
       "  </thead>\n",
       "  <tbody>\n",
       "    <tr>\n",
       "      <th>0</th>\n",
       "      <td>ritz</td>\n",
       "      <td>2014</td>\n",
       "      <td>3</td>\n",
       "      <td>5</td>\n",
       "      <td>27000</td>\n",
       "      <td>Petrol</td>\n",
       "      <td>Dealer</td>\n",
       "      <td>Manual</td>\n",
       "      <td>0</td>\n",
       "    </tr>\n",
       "    <tr>\n",
       "      <th>1</th>\n",
       "      <td>sx4</td>\n",
       "      <td>2013</td>\n",
       "      <td>4</td>\n",
       "      <td>9</td>\n",
       "      <td>43000</td>\n",
       "      <td>Diesel</td>\n",
       "      <td>Dealer</td>\n",
       "      <td>Manual</td>\n",
       "      <td>0</td>\n",
       "    </tr>\n",
       "    <tr>\n",
       "      <th>2</th>\n",
       "      <td>ciaz</td>\n",
       "      <td>2017</td>\n",
       "      <td>7</td>\n",
       "      <td>9</td>\n",
       "      <td>6900</td>\n",
       "      <td>Petrol</td>\n",
       "      <td>Dealer</td>\n",
       "      <td>Manual</td>\n",
       "      <td>0</td>\n",
       "    </tr>\n",
       "    <tr>\n",
       "      <th>3</th>\n",
       "      <td>wagon r</td>\n",
       "      <td>2011</td>\n",
       "      <td>2</td>\n",
       "      <td>4</td>\n",
       "      <td>5200</td>\n",
       "      <td>Petrol</td>\n",
       "      <td>Dealer</td>\n",
       "      <td>Manual</td>\n",
       "      <td>0</td>\n",
       "    </tr>\n",
       "    <tr>\n",
       "      <th>4</th>\n",
       "      <td>swift</td>\n",
       "      <td>2014</td>\n",
       "      <td>4</td>\n",
       "      <td>6</td>\n",
       "      <td>42450</td>\n",
       "      <td>Diesel</td>\n",
       "      <td>Dealer</td>\n",
       "      <td>Manual</td>\n",
       "      <td>0</td>\n",
       "    </tr>\n",
       "  </tbody>\n",
       "</table>\n",
       "</div>"
      ],
      "text/plain": [
       "  Car_Name  Year  Selling_Price  Present_Price  Kms_Driven Fuel_Type  \\\n",
       "0     ritz  2014              3              5       27000    Petrol   \n",
       "1      sx4  2013              4              9       43000    Diesel   \n",
       "2     ciaz  2017              7              9        6900    Petrol   \n",
       "3  wagon r  2011              2              4        5200    Petrol   \n",
       "4    swift  2014              4              6       42450    Diesel   \n",
       "\n",
       "  Seller_Type Transmission  Owner  \n",
       "0      Dealer       Manual      0  \n",
       "1      Dealer       Manual      0  \n",
       "2      Dealer       Manual      0  \n",
       "3      Dealer       Manual      0  \n",
       "4      Dealer       Manual      0  "
      ]
     },
     "execution_count": 103,
     "metadata": {},
     "output_type": "execute_result"
    }
   ],
   "source": [
    "Datos.head()"
   ]
  },
  {
   "cell_type": "code",
   "execution_count": 111,
   "id": "3d73c72f-4397-4bba-8519-aa98ff5bf96d",
   "metadata": {},
   "outputs": [],
   "source": [
    "Y = Datos[['Selling_Price','Present_Price','Kms_Driven']]\n",
    "Y = Datos['Year']"
   ]
  },
  {
   "cell_type": "code",
   "execution_count": 112,
   "id": "4f7e0728-fc4a-4c50-b0ff-5c5d038cc295",
   "metadata": {},
   "outputs": [
    {
     "data": {
      "text/plain": [
       "array([[ 2,  0,  0,  0,  0,  0,  0,  0,  0,  0,  0,  0,  0,  0,  0,  0],\n",
       "       [ 0,  1,  0,  0,  0,  0,  0,  0,  0,  0,  0,  0,  0,  0,  0,  0],\n",
       "       [ 0,  0,  4,  0,  0,  0,  0,  0,  0,  0,  0,  0,  0,  0,  0,  0],\n",
       "       [ 0,  0,  0,  4,  0,  0,  0,  0,  0,  0,  0,  0,  0,  0,  0,  0],\n",
       "       [ 0,  0,  0,  0,  2,  0,  0,  0,  0,  0,  0,  0,  0,  0,  0,  0],\n",
       "       [ 0,  0,  0,  0,  0,  7,  0,  0,  0,  0,  0,  0,  0,  0,  0,  0],\n",
       "       [ 0,  0,  0,  0,  0,  0,  6,  0,  0,  0,  0,  0,  0,  0,  0,  0],\n",
       "       [ 0,  0,  0,  0,  0,  0,  0, 15,  0,  0,  0,  0,  0,  0,  0,  0],\n",
       "       [ 0,  0,  0,  0,  0,  0,  0,  0, 19,  0,  0,  0,  0,  0,  0,  0],\n",
       "       [ 0,  0,  0,  0,  0,  0,  0,  0,  0, 23,  0,  0,  0,  0,  0,  0],\n",
       "       [ 0,  0,  0,  0,  0,  0,  0,  0,  0,  0, 33,  0,  0,  0,  0,  0],\n",
       "       [ 0,  0,  0,  0,  0,  0,  0,  0,  0,  0,  0, 38,  0,  0,  0,  0],\n",
       "       [ 0,  0,  0,  0,  0,  0,  0,  0,  0,  0,  0,  0, 61,  0,  0,  0],\n",
       "       [ 0,  0,  0,  0,  0,  0,  0,  0,  0,  0,  0,  0,  0, 50,  0,  0],\n",
       "       [ 0,  0,  0,  0,  0,  0,  0,  0,  0,  0,  0,  0,  0,  0, 35,  0],\n",
       "       [ 0,  0,  0,  0,  0,  0,  0,  0,  0,  0,  0,  0,  0,  0,  0,  1]],\n",
       "      dtype=int64)"
      ]
     },
     "execution_count": 112,
     "metadata": {},
     "output_type": "execute_result"
    }
   ],
   "source": [
    "confusion_matrix(Y,Y)"
   ]
  },
  {
   "cell_type": "code",
   "execution_count": 113,
   "id": "5f14fff5-d09e-4dc7-a628-9bedcfc9ddfd",
   "metadata": {},
   "outputs": [
    {
     "data": {
      "text/plain": [
       "<sklearn.metrics._plot.confusion_matrix.ConfusionMatrixDisplay at 0x2467ed5edd0>"
      ]
     },
     "execution_count": 113,
     "metadata": {},
     "output_type": "execute_result"
    },
    {
     "data": {
      "image/png": "[encoded data removed]",
      "text/plain": [
       "<Figure size 640x480 with 2 Axes>"
      ]
     },
     "metadata": {},
     "output_type": "display_data"
    }
   ],
   "source": [
    "cm = confusion_matrix(Y, Y)\n",
    "disp = metrics.ConfusionMatrixDisplay(confusion_matrix=cm)\n",
    "disp.plot()"
   ]
  },
  {
   "cell_type": "code",
   "execution_count": null,
   "id": "5a55b98a-f095-4a97-bd2e-c2942ba27ab1",
   "metadata": {},
   "outputs": [],
   "source": []
  }
 ],
 "metadata": {
  "kernelspec": {
   "display_name": "Python 3 (ipykernel)",
   "language": "python",
   "name": "python3"
  },
  "language_info": {
   "codemirror_mode": {
    "name": "ipython",
    "version": 3
   },
   "file_extension": ".py",
   "mimetype": "text/x-python",
   "name": "python",
   "nbconvert_exporter": "python",
   "pygments_lexer": "ipython3",
   "version": "3.11.7"
  }
 },
 "nbformat": 4,
 "nbformat_minor": 5
}
